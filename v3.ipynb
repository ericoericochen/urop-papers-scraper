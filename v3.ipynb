{
 "cells": [
  {
   "cell_type": "code",
   "execution_count": 1,
   "id": "280b0703-69dd-4937-8f53-ce811ff2aff4",
   "metadata": {
    "tags": []
   },
   "outputs": [],
   "source": [
    "%load_ext autoreload\n",
    "%autoreload 2"
   ]
  },
  {
   "cell_type": "markdown",
   "id": "a3feffbd-f035-4145-b8e6-526ff8068ed1",
   "metadata": {},
   "source": [
    "### Objective\n",
    "Get batches of research papers from a lab"
   ]
  },
  {
   "cell_type": "code",
   "execution_count": 2,
   "id": "11a13dcb-d7ec-48f0-9390-d436205c0c25",
   "metadata": {
    "tags": []
   },
   "outputs": [],
   "source": [
    "import requests\n",
    "from bs4 import BeautifulSoup, NavigableString\n",
    "from urllib.parse import urlparse"
   ]
  },
  {
   "cell_type": "code",
   "execution_count": 3,
   "id": "c2f06ee8-effe-4039-ac73-5780805d6c4d",
   "metadata": {
    "tags": []
   },
   "outputs": [],
   "source": [
    "url = \"https://dspace.mit.edu/handle/1721.1/39118/recent-submissions\""
   ]
  },
  {
   "cell_type": "code",
   "execution_count": 4,
   "id": "efe11319-6e8b-4fca-9e4f-864fa871bf97",
   "metadata": {
    "tags": []
   },
   "outputs": [],
   "source": [
    "res = requests.get(url)    "
   ]
  },
  {
   "cell_type": "code",
   "execution_count": 5,
   "id": "6bd4bae5-75a8-46fa-b773-30edc4da1558",
   "metadata": {
    "tags": []
   },
   "outputs": [
    {
     "data": {
      "text/plain": [
       "200"
      ]
     },
     "execution_count": 5,
     "metadata": {},
     "output_type": "execute_result"
    }
   ],
   "source": [
    "res.status_code"
   ]
  },
  {
   "cell_type": "code",
   "execution_count": 6,
   "id": "eac6ac2d-488b-4c6e-a14b-74d556223bdf",
   "metadata": {
    "tags": []
   },
   "outputs": [],
   "source": [
    "soup = BeautifulSoup(res.text, \"html.parser\")"
   ]
  },
  {
   "cell_type": "code",
   "execution_count": 9,
   "id": "8f5b5fd2-801e-4702-b4a5-1d2bb62076ae",
   "metadata": {
    "tags": []
   },
   "outputs": [],
   "source": [
    "pagination = soup.select(\".pagination-info\")[0].text"
   ]
  },
  {
   "cell_type": "code",
   "execution_count": 12,
   "id": "50fd6144-e05f-4fdb-ad03-c24482fbeb0b",
   "metadata": {
    "tags": []
   },
   "outputs": [
    {
     "data": {
      "text/plain": [
       "['Now', 'showing', 'items', '1-3', 'of', '4']"
      ]
     },
     "execution_count": 12,
     "metadata": {},
     "output_type": "execute_result"
    }
   ],
   "source": [
    "tokens = pagination.split(\" \")\n",
    "tokens"
   ]
  },
  {
   "cell_type": "code",
   "execution_count": 13,
   "id": "5eb36dd1-655c-4239-9da9-2fdefe785e71",
   "metadata": {
    "tags": []
   },
   "outputs": [
    {
     "data": {
      "text/plain": [
       "4"
      ]
     },
     "execution_count": 13,
     "metadata": {},
     "output_type": "execute_result"
    }
   ],
   "source": [
    "pages = int(tokens[-1])\n",
    "pages"
   ]
  },
  {
   "cell_type": "code",
   "execution_count": 16,
   "id": "eca3eec0-44f5-4a4b-afd4-c11f0146c120",
   "metadata": {
    "tags": []
   },
   "outputs": [
    {
     "name": "stdout",
     "output_type": "stream",
     "text": [
      "['https://dspace.mit.edu/handle/1721.1/39126', 'https://dspace.mit.edu/handle/1721.1/39125', 'https://dspace.mit.edu/handle/1721.1/39124']\n",
      "['https://dspace.mit.edu/handle/1721.1/39123']\n"
     ]
    }
   ],
   "source": [
    "for i in range(0, 4, 3):\n",
    "    offset = i\n",
    "    link = url + f\"?offset={offset}\"\n",
    "    response = requests.get(link)\n",
    "    html = response.text\n",
    "    soup = BeautifulSoup(html, \"html.parser\")\n",
    "    papers_links = soup.select(\".artifact-title a\")\n",
    "    links = [\"https://dspace.mit.edu\" + a[\"href\"] for a in papers_links]\n",
    "    \n",
    "    print(links)"
   ]
  },
  {
   "cell_type": "code",
   "execution_count": null,
   "id": "d41dd2b1-d6a9-4980-b0fc-b5d54449c25e",
   "metadata": {},
   "outputs": [],
   "source": []
  }
 ],
 "metadata": {
  "kernelspec": {
   "display_name": "Python 3 (ipykernel)",
   "language": "python",
   "name": "python3"
  },
  "language_info": {
   "codemirror_mode": {
    "name": "ipython",
    "version": 3
   },
   "file_extension": ".py",
   "mimetype": "text/x-python",
   "name": "python",
   "nbconvert_exporter": "python",
   "pygments_lexer": "ipython3",
   "version": "3.11.4"
  }
 },
 "nbformat": 4,
 "nbformat_minor": 5
}
