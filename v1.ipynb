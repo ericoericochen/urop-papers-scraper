{
 "cells": [
  {
   "cell_type": "code",
   "execution_count": 1,
   "id": "56a0af38-9189-45e4-b728-efb362d97768",
   "metadata": {
    "tags": []
   },
   "outputs": [],
   "source": [
    "%load_ext autoreload\n",
    "%autoreload 2"
   ]
  },
  {
   "cell_type": "markdown",
   "id": "3912b8e8-406c-488d-bded-d83fa4d137e8",
   "metadata": {},
   "source": [
    "### Objective\n",
    "Scrape data from a research paper"
   ]
  },
  {
   "cell_type": "code",
   "execution_count": 2,
   "id": "17fca893-950a-4257-b019-2dee24a638c6",
   "metadata": {
    "tags": []
   },
   "outputs": [],
   "source": [
    "import requests\n",
    "from bs4 import BeautifulSoup, NavigableString\n",
    "from urllib.parse import urlparse"
   ]
  },
  {
   "cell_type": "code",
   "execution_count": 3,
   "id": "14055fb8-9570-46eb-8dee-a05000f7750c",
   "metadata": {
    "tags": []
   },
   "outputs": [],
   "source": [
    "url = \"https://dspace.mit.edu/handle/1721.1/39126?show=full\""
   ]
  },
  {
   "cell_type": "code",
   "execution_count": 4,
   "id": "7a07d29d-ceda-495d-bdaa-cd7b6c3c2c0b",
   "metadata": {
    "tags": []
   },
   "outputs": [],
   "source": [
    "res = requests.get(url)"
   ]
  },
  {
   "cell_type": "code",
   "execution_count": 6,
   "id": "8fdb3c85-3248-4d03-b167-9980874a301a",
   "metadata": {
    "tags": []
   },
   "outputs": [
    {
     "data": {
      "text/plain": [
       "200"
      ]
     },
     "execution_count": 6,
     "metadata": {},
     "output_type": "execute_result"
    }
   ],
   "source": [
    "res.status_code"
   ]
  },
  {
   "cell_type": "code",
   "execution_count": 8,
   "id": "dabfbf29-def5-4cac-a15e-207e97e77f96",
   "metadata": {
    "tags": []
   },
   "outputs": [],
   "source": [
    "soup = BeautifulSoup(res.text, \"html.parser\")"
   ]
  },
  {
   "cell_type": "code",
   "execution_count": 20,
   "id": "199d13b9-17fe-408a-8782-b2ba3a620c20",
   "metadata": {
    "tags": []
   },
   "outputs": [],
   "source": [
    "metadata = soup.find(\"table\")\n",
    "table_rows = metadata.select(\".ds-table-row\")"
   ]
  },
  {
   "cell_type": "code",
   "execution_count": 32,
   "id": "264bcb85-da30-4b8f-bb34-93129ec936e1",
   "metadata": {
    "tags": []
   },
   "outputs": [],
   "source": [
    "# transform table rows into a better datastructure that we can iterate over and get properties\n",
    "rows = []\n",
    "\n",
    "\n",
    "for table_row in table_rows:\n",
    "    name = table_row.find(\"td\", attrs={\"class\": \"label-cell\"}).text\n",
    "    value = table_row.find(\"td\", attrs={\"class\": \"word-break\"}).text\n",
    "    \n",
    "    rows.append({\"name\": name, \"value\": value})"
   ]
  },
  {
   "cell_type": "code",
   "execution_count": 33,
   "id": "c973d388-0206-41d4-b4d0-27eacdbba1d9",
   "metadata": {
    "tags": []
   },
   "outputs": [
    {
     "data": {
      "text/plain": [
       "[{'name': 'dc.contributor.author', 'value': 'Raghabednra Chattopadhyay'},\n",
       " {'name': 'dc.contributor.author', 'value': 'Esther Duflo'},\n",
       " {'name': 'dc.date.accessioned', 'value': '2007-10-05T05:20:05Z'},\n",
       " {'name': 'dc.date.available', 'value': '2007-10-05T05:20:05Z'},\n",
       " {'name': 'dc.date.issued', 'value': '2007-10-05T05:20:05Z'},\n",
       " {'name': 'dc.identifier', 'value': 'hdl:1902.1/USBFNOMLAT'},\n",
       " {'name': 'dc.identifier.uri', 'value': 'http://hdl.handle.net/1721.1/39126'},\n",
       " {'name': 'dc.description.abstract',\n",
       "  'value': \"This data set uses political reservations for women in India to study the impact of women's leadership on policy decisions. Using a dataset we collected on 265 village councils in West Bengal and Rajasthan, we compare the type of public goods provided in reserved and unreserved village?s councils. Data sets based upon information provided by GP Pradhans, local villagers, and the 1991 Indian Census\"},\n",
       " {'name': 'dc.subject', 'value': 'gender'},\n",
       " {'name': 'dc.subject', 'value': 'decentralization'},\n",
       " {'name': 'dc.subject', 'value': 'affirmative action'},\n",
       " {'name': 'dc.subject', 'value': 'political economy'},\n",
       " {'name': 'dc.subject', 'value': 'gender'},\n",
       " {'name': 'dc.subject', 'value': 'decentralization'},\n",
       " {'name': 'dc.subject', 'value': 'affirmative action'},\n",
       " {'name': 'dc.subject', 'value': 'political economy'},\n",
       " {'name': 'dc.title',\n",
       "  'value': 'Women as Policy Makers: Evidence from a Randomized Policy Experiment in India'}]"
      ]
     },
     "execution_count": 33,
     "metadata": {},
     "output_type": "execute_result"
    }
   ],
   "source": [
    "rows"
   ]
  },
  {
   "cell_type": "markdown",
   "id": "26c60352-c289-4e0d-9beb-d05b28e14e3f",
   "metadata": {},
   "source": [
    "### 1. Get Title"
   ]
  },
  {
   "cell_type": "code",
   "execution_count": 11,
   "id": "189f8420-7172-499a-bbfd-9a077df74276",
   "metadata": {
    "tags": []
   },
   "outputs": [
    {
     "data": {
      "text/plain": [
       "'Women as Policy Makers: Evidence from a Randomized Policy Experiment in India'"
      ]
     },
     "execution_count": 11,
     "metadata": {},
     "output_type": "execute_result"
    }
   ],
   "source": [
    "title = soup.select(\".page-header.first-page-header\")[0].text\n",
    "title"
   ]
  },
  {
   "cell_type": "markdown",
   "id": "e9e7f6a0-f210-4e5b-b792-00835200c41d",
   "metadata": {
    "tags": []
   },
   "source": [
    "### 2. Get Authors"
   ]
  },
  {
   "cell_type": "code",
   "execution_count": 34,
   "id": "d79e4429-0a57-4ea7-9bfa-7fc48042f697",
   "metadata": {
    "tags": []
   },
   "outputs": [],
   "source": [
    "authors = []\n",
    "\n",
    "for row in rows:\n",
    "    if row[\"name\"] == \"dc.contributor.author\":\n",
    "        authors.append(row[\"value\"])"
   ]
  },
  {
   "cell_type": "code",
   "execution_count": 35,
   "id": "e9052975-d67f-4e42-835b-6163026f3663",
   "metadata": {
    "tags": []
   },
   "outputs": [
    {
     "data": {
      "text/plain": [
       "['Raghabednra Chattopadhyay', 'Esther Duflo']"
      ]
     },
     "execution_count": 35,
     "metadata": {},
     "output_type": "execute_result"
    }
   ],
   "source": [
    "authors"
   ]
  },
  {
   "cell_type": "markdown",
   "id": "2462a451-19d4-4fa9-9bdd-85cb8befff46",
   "metadata": {},
   "source": [
    "### 3. Get Abstract"
   ]
  },
  {
   "cell_type": "code",
   "execution_count": 37,
   "id": "81696b7a-6a46-4110-bcc6-288724285020",
   "metadata": {
    "tags": []
   },
   "outputs": [],
   "source": [
    "abstracts = [row[\"value\"] for row in rows if row[\"name\"] == \"dc.description.abstract\"]\n",
    "abstract = \"\\n\".join(abstracts)"
   ]
  },
  {
   "cell_type": "code",
   "execution_count": 39,
   "id": "14cf2f05-3fe7-408e-9615-ca48805187da",
   "metadata": {
    "tags": []
   },
   "outputs": [
    {
     "name": "stdout",
     "output_type": "stream",
     "text": [
      "This data set uses political reservations for women in India to study the impact of women's leadership on policy decisions. Using a dataset we collected on 265 village councils in West Bengal and Rajasthan, we compare the type of public goods provided in reserved and unreserved village?s councils. Data sets based upon information provided by GP Pradhans, local villagers, and the 1991 Indian Census\n"
     ]
    }
   ],
   "source": [
    "print(abstract)"
   ]
  },
  {
   "cell_type": "markdown",
   "id": "7ce32aeb-3c6e-4b46-8944-402750b98edf",
   "metadata": {},
   "source": [
    "### 4. Get Date Issued"
   ]
  },
  {
   "cell_type": "code",
   "execution_count": 43,
   "id": "96beb561-d2d3-42cf-a4bf-fa9fa6d2cf1b",
   "metadata": {
    "tags": []
   },
   "outputs": [],
   "source": [
    "date_issued = \"\"\n",
    "\n",
    "for row in rows:\n",
    "    if row[\"name\"] == \"dc.date.issued\":\n",
    "        date_issued = row[\"value\"]\n",
    "        break"
   ]
  },
  {
   "cell_type": "code",
   "execution_count": 44,
   "id": "c9ff7f9f-6e58-474d-b79d-11a0e11ea362",
   "metadata": {
    "tags": []
   },
   "outputs": [
    {
     "data": {
      "text/plain": [
       "'2007-10-05T05:20:05Z'"
      ]
     },
     "execution_count": 44,
     "metadata": {},
     "output_type": "execute_result"
    }
   ],
   "source": [
    "date_issued"
   ]
  },
  {
   "cell_type": "markdown",
   "id": "02c0d690-9b0b-4f3b-bfaf-f9347b40afc0",
   "metadata": {},
   "source": [
    "### 5. Get Keywords"
   ]
  },
  {
   "cell_type": "code",
   "execution_count": 50,
   "id": "f871e5dc-1932-4abb-8caf-5050c70e34c7",
   "metadata": {
    "tags": []
   },
   "outputs": [],
   "source": [
    "keywords = []\n",
    "\n",
    "for row in rows:\n",
    "    if row[\"name\"] == \"dc.subject\":\n",
    "        split = row[\"value\"].split(\",\")\n",
    "        \n",
    "        for keyword in split:\n",
    "            keywords.append(keyword.strip())"
   ]
  },
  {
   "cell_type": "code",
   "execution_count": 51,
   "id": "386c34f8-3c9f-4e4b-bfe5-5a0289bfb69c",
   "metadata": {
    "tags": []
   },
   "outputs": [
    {
     "data": {
      "text/plain": [
       "['gender',\n",
       " 'decentralization',\n",
       " 'affirmative action',\n",
       " 'political economy',\n",
       " 'gender',\n",
       " 'decentralization',\n",
       " 'affirmative action',\n",
       " 'political economy']"
      ]
     },
     "execution_count": 51,
     "metadata": {},
     "output_type": "execute_result"
    }
   ],
   "source": [
    "keywords"
   ]
  },
  {
   "cell_type": "markdown",
   "id": "4d1f39c2-dac6-4186-a174-b404eb80c521",
   "metadata": {},
   "source": [
    "### 6. Get URL"
   ]
  },
  {
   "cell_type": "code",
   "execution_count": 53,
   "id": "b694a32a-e3e7-409a-9ff1-9425f0654cfe",
   "metadata": {
    "tags": []
   },
   "outputs": [],
   "source": [
    "paper_url = \"\"\n",
    "\n",
    "for row in rows:\n",
    "    if row[\"name\"] == \"dc.identifier.uri\":\n",
    "        paper_url = row[\"value\"]"
   ]
  },
  {
   "cell_type": "code",
   "execution_count": 54,
   "id": "196c6b26-0381-4788-aaba-e5a5b5bf245a",
   "metadata": {
    "tags": []
   },
   "outputs": [
    {
     "data": {
      "text/plain": [
       "'http://hdl.handle.net/1721.1/39126'"
      ]
     },
     "execution_count": 54,
     "metadata": {},
     "output_type": "execute_result"
    }
   ],
   "source": [
    "paper_url"
   ]
  },
  {
   "cell_type": "markdown",
   "id": "9062575f-9207-4afd-a4a0-fb1318a9604e",
   "metadata": {},
   "source": [
    "### 7. Get all files"
   ]
  },
  {
   "cell_type": "code",
   "execution_count": 58,
   "id": "eeac92a7-6998-4006-8fa9-281e96201cfa",
   "metadata": {
    "tags": []
   },
   "outputs": [],
   "source": [
    "files_rows = soup.select(\".file-list .file-wrapper.row\")"
   ]
  },
  {
   "cell_type": "code",
   "execution_count": 64,
   "id": "c5769391-9399-4504-9f30-0589b8cbb829",
   "metadata": {
    "tags": []
   },
   "outputs": [],
   "source": [
    "files = []\n",
    "\n",
    "for file_row in files_rows:\n",
    "    link = \"https://dspace.mit.edu\" + file_row.find(\"a\")[\"href\"]\n",
    "    files.append(link)"
   ]
  },
  {
   "cell_type": "code",
   "execution_count": 65,
   "id": "677a93f9-9f61-4a27-a92d-b99c877515e3",
   "metadata": {
    "tags": []
   },
   "outputs": [
    {
     "data": {
      "text/plain": [
       "['https://dspace.mit.edu/bitstream/handle/1721.1/39126/study.xml?sequence=1&isAllowed=y',\n",
       " 'https://dspace.mit.edu/bitstream/handle/1721.1/39126/womenpolicymakers_census.dta?sequence=2&isAllowed=y',\n",
       " 'https://dspace.mit.edu/bitstream/handle/1721.1/39126/womenpolicymakers_census_dta.tab?sequence=3&isAllowed=y',\n",
       " 'https://dspace.mit.edu/bitstream/handle/1721.1/39126/womenpolicymakers_parta.dta?sequence=4&isAllowed=y',\n",
       " 'https://dspace.mit.edu/bitstream/handle/1721.1/39126/womenpolicymakers_parta_dta.tab?sequence=5&isAllowed=y',\n",
       " 'https://dspace.mit.edu/bitstream/handle/1721.1/39126/womenpolicymakers_partb.dta?sequence=6&isAllowed=y',\n",
       " 'https://dspace.mit.edu/bitstream/handle/1721.1/39126/womenpolicymakers_partb_dta.tab?sequence=7&isAllowed=y',\n",
       " 'https://dspace.mit.edu/bitstream/handle/1721.1/39126/womenpolicymakers_partc.dta?sequence=8&isAllowed=y',\n",
       " 'https://dspace.mit.edu/bitstream/handle/1721.1/39126/womenpolicymakers_partc_dta.tab?sequence=9&isAllowed=y',\n",
       " 'https://dspace.mit.edu/bitstream/handle/1721.1/39126/womenpolicymakers_partd.dta?sequence=10&isAllowed=y',\n",
       " 'https://dspace.mit.edu/bitstream/handle/1721.1/39126/womenpolicymakers_partd_dta.tab?sequence=11&isAllowed=y',\n",
       " 'https://dspace.mit.edu/bitstream/handle/1721.1/39126/womenpolicymakers_quest_parta.doc?sequence=12&isAllowed=y',\n",
       " 'https://dspace.mit.edu/bitstream/handle/1721.1/39126/womenpolicymakers_quest_partb.doc?sequence=13&isAllowed=y',\n",
       " 'https://dspace.mit.edu/bitstream/handle/1721.1/39126/womenpolicymakers_quest_partc.doc?sequence=14&isAllowed=y',\n",
       " 'https://dspace.mit.edu/bitstream/handle/1721.1/39126/womenpolicymakers_quest_partd_.doc?sequence=15&isAllowed=y',\n",
       " 'https://dspace.mit.edu/bitstream/handle/1721.1/39126/womenpolicymakers_quest_resurveya.doc?sequence=16&isAllowed=y',\n",
       " 'https://dspace.mit.edu/bitstream/handle/1721.1/39126/womenpolicymakers_quest_resurveyd.doc?sequence=17&isAllowed=y',\n",
       " 'https://dspace.mit.edu/bitstream/handle/1721.1/39126/womenpolicymakers_resurveya.dta?sequence=18&isAllowed=y',\n",
       " 'https://dspace.mit.edu/bitstream/handle/1721.1/39126/womenpolicymakers_resurveya_dta.tab?sequence=19&isAllowed=y',\n",
       " 'https://dspace.mit.edu/bitstream/handle/1721.1/39126/womenpolicymakers_resurveyd.dta?sequence=20&isAllowed=y',\n",
       " 'https://dspace.mit.edu/bitstream/handle/1721.1/39126/womenpolicymakers_resurveyd_dta.tab?sequence=21&isAllowed=y',\n",
       " 'https://dspace.mit.edu/bitstream/handle/1721.1/39126/womenpolicymakers_varinfo_census.pdf?sequence=22&isAllowed=y',\n",
       " 'https://dspace.mit.edu/bitstream/handle/1721.1/39126/womenpolicymakers_varinfo_parta.pdf?sequence=23&isAllowed=y',\n",
       " 'https://dspace.mit.edu/bitstream/handle/1721.1/39126/womenpolicymakers_varinfo_partb1.pdf?sequence=24&isAllowed=y',\n",
       " 'https://dspace.mit.edu/bitstream/handle/1721.1/39126/womenpolicymakers_varinfo_partc1.pdf?sequence=25&isAllowed=y',\n",
       " 'https://dspace.mit.edu/bitstream/handle/1721.1/39126/womenpolicymakers_varinfo_partd.pdf?sequence=26&isAllowed=y',\n",
       " 'https://dspace.mit.edu/bitstream/handle/1721.1/39126/womenpolicymakers_varinfo_resurveya.pdf?sequence=27&isAllowed=y',\n",
       " 'https://dspace.mit.edu/bitstream/handle/1721.1/39126/womenpolicymakers_varinfo_resurveyd.pdf?sequence=28&isAllowed=y']"
      ]
     },
     "execution_count": 65,
     "metadata": {},
     "output_type": "execute_result"
    }
   ],
   "source": [
    "files"
   ]
  },
  {
   "cell_type": "code",
   "execution_count": null,
   "id": "2cbccc5b-1ff9-42b8-a44e-b5defb2868a9",
   "metadata": {},
   "outputs": [],
   "source": []
  }
 ],
 "metadata": {
  "kernelspec": {
   "display_name": "Python 3 (ipykernel)",
   "language": "python",
   "name": "python3"
  },
  "language_info": {
   "codemirror_mode": {
    "name": "ipython",
    "version": 3
   },
   "file_extension": ".py",
   "mimetype": "text/x-python",
   "name": "python",
   "nbconvert_exporter": "python",
   "pygments_lexer": "ipython3",
   "version": "3.11.4"
  }
 },
 "nbformat": 4,
 "nbformat_minor": 5
}
