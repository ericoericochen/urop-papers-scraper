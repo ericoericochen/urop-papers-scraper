{
 "cells": [
  {
   "cell_type": "code",
   "execution_count": 34,
   "id": "43ef7079-0385-4c0d-a73c-ee66b5dd5bde",
   "metadata": {
    "tags": []
   },
   "outputs": [
    {
     "name": "stdout",
     "output_type": "stream",
     "text": [
      "The autoreload extension is already loaded. To reload it, use:\n",
      "  %reload_ext autoreload\n"
     ]
    }
   ],
   "source": [
    "%load_ext autoreload\n",
    "%autoreload 2"
   ]
  },
  {
   "cell_type": "markdown",
   "id": "52475e4f-dc02-43e4-b7a1-b607c5331ce7",
   "metadata": {},
   "source": [
    "### Objective\n",
    "Create google sheet and insert data"
   ]
  },
  {
   "cell_type": "code",
   "execution_count": 35,
   "id": "b57f9134-2699-4781-9da8-2eb4c3e154bc",
   "metadata": {
    "tags": []
   },
   "outputs": [],
   "source": [
    "from labs_sheet import LabsSheet\n",
    "from research_paper import ResearchPaper"
   ]
  },
  {
   "cell_type": "code",
   "execution_count": 36,
   "id": "6ea08641-affd-4785-9fb4-969216b4ee1f",
   "metadata": {
    "tags": []
   },
   "outputs": [],
   "source": [
    "sheet_id = \"1_KX1U1ksj1Bzraf-oWbZh8nDHxQxYzZC1lSSuzgt1OA\"\n",
    "paper_url = \"https://dspace.mit.edu/handle/1721.1/39126?show=full\""
   ]
  },
  {
   "cell_type": "code",
   "execution_count": 37,
   "id": "b15ab473-efc1-4176-8128-3898e72e02f4",
   "metadata": {
    "tags": []
   },
   "outputs": [],
   "source": [
    "research_paper = ResearchPaper.from_url(paper_url)"
   ]
  },
  {
   "cell_type": "code",
   "execution_count": 38,
   "id": "dc1bd886-ebbc-452d-be16-b9c0330d4a40",
   "metadata": {
    "tags": []
   },
   "outputs": [
    {
     "data": {
      "text/plain": [
       "'Women as Policy Makers: Evidence from a Randomized Policy Experiment in India'"
      ]
     },
     "execution_count": 38,
     "metadata": {},
     "output_type": "execute_result"
    }
   ],
   "source": [
    "research_paper.title"
   ]
  },
  {
   "cell_type": "code",
   "execution_count": 39,
   "id": "0986b4ed-2369-4fdc-9e74-00afcd74e64d",
   "metadata": {
    "tags": []
   },
   "outputs": [
    {
     "data": {
      "text/plain": [
       "['Raghabednra Chattopadhyay', 'Esther Duflo']"
      ]
     },
     "execution_count": 39,
     "metadata": {},
     "output_type": "execute_result"
    }
   ],
   "source": [
    "research_paper.authors"
   ]
  },
  {
   "cell_type": "markdown",
   "id": "ca56970a-5b12-43f9-ad3a-97a93d254d7b",
   "metadata": {},
   "source": [
    "### 1. Add research paper to Google Sheet"
   ]
  },
  {
   "cell_type": "code",
   "execution_count": 42,
   "id": "b15145fb-84c8-46eb-830c-13ba103ef69b",
   "metadata": {
    "tags": []
   },
   "outputs": [],
   "source": [
    "labs_sheet = LabsSheet(sheet_id, \"./credentials.json\")"
   ]
  },
  {
   "cell_type": "code",
   "execution_count": 47,
   "id": "89f0d011-98de-43bc-a305-85c7673e9e32",
   "metadata": {
    "tags": []
   },
   "outputs": [],
   "source": [
    "labs_sheet.insert_research_papers(\"Sheet1\", [research_paper])"
   ]
  },
  {
   "cell_type": "code",
   "execution_count": null,
   "id": "dba4727c-09d0-44e5-ad18-7df7a7ad4d43",
   "metadata": {},
   "outputs": [],
   "source": []
  }
 ],
 "metadata": {
  "kernelspec": {
   "display_name": "Python 3 (ipykernel)",
   "language": "python",
   "name": "python3"
  },
  "language_info": {
   "codemirror_mode": {
    "name": "ipython",
    "version": 3
   },
   "file_extension": ".py",
   "mimetype": "text/x-python",
   "name": "python",
   "nbconvert_exporter": "python",
   "pygments_lexer": "ipython3",
   "version": "3.11.4"
  }
 },
 "nbformat": 4,
 "nbformat_minor": 5
}
