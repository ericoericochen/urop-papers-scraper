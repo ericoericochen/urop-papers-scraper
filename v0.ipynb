{
 "cells": [
  {
   "cell_type": "code",
   "execution_count": 1,
   "id": "2e4ab2de-08be-41ae-85cb-f30bf0ef508d",
   "metadata": {
    "tags": []
   },
   "outputs": [],
   "source": [
    "%load_ext autoreload\n",
    "%autoreload 2"
   ]
  },
  {
   "cell_type": "markdown",
   "id": "15ab13cf-1b45-479e-a4b1-975a9b8e6d8b",
   "metadata": {},
   "source": [
    "### Objective\n",
    "Get all the labs and their urls"
   ]
  },
  {
   "cell_type": "code",
   "execution_count": 87,
   "id": "70f06ff8-411c-4ea2-ab4f-19136d863c13",
   "metadata": {
    "tags": []
   },
   "outputs": [],
   "source": [
    "import requests\n",
    "from bs4 import BeautifulSoup, NavigableString\n",
    "from urllib.parse import urlparse"
   ]
  },
  {
   "cell_type": "markdown",
   "id": "b3b7608a-b6e7-4d62-9352-d575b774fdce",
   "metadata": {},
   "source": [
    "### 1. Get Labs Page from DSpace"
   ]
  },
  {
   "cell_type": "code",
   "execution_count": 6,
   "id": "5e063633-c838-49fc-bcb5-d96439ee7503",
   "metadata": {
    "tags": []
   },
   "outputs": [],
   "source": [
    "labs_url = \"https://dspace.mit.edu/community-list\""
   ]
  },
  {
   "cell_type": "code",
   "execution_count": 7,
   "id": "37feaa95-f295-4623-9dfc-45132a122df0",
   "metadata": {
    "tags": []
   },
   "outputs": [],
   "source": [
    "res = requests.get(labs_url)"
   ]
  },
  {
   "cell_type": "code",
   "execution_count": 8,
   "id": "7add04f3-d7ac-4b1d-9979-8475e57b9535",
   "metadata": {
    "tags": []
   },
   "outputs": [
    {
     "data": {
      "text/plain": [
       "200"
      ]
     },
     "execution_count": 8,
     "metadata": {},
     "output_type": "execute_result"
    }
   ],
   "source": [
    "res.status_code"
   ]
  },
  {
   "cell_type": "code",
   "execution_count": 15,
   "id": "4bd7837e-4902-42c2-b9eb-3b0a6374aaaa",
   "metadata": {
    "tags": []
   },
   "outputs": [],
   "source": [
    "soup = BeautifulSoup(res.text, \"html.parser\")"
   ]
  },
  {
   "cell_type": "markdown",
   "id": "8ab666dc-c0f9-4477-8518-a44a6b86283a",
   "metadata": {},
   "source": [
    "### 2. Scrape Labs off Labs Page"
   ]
  },
  {
   "cell_type": "code",
   "execution_count": 49,
   "id": "1bbacc1c-70cc-412f-8ca0-f93240e364d8",
   "metadata": {
    "tags": []
   },
   "outputs": [],
   "source": [
    "labs_list = soup.select(\"#aspect_artifactbrowser_CommunityBrowser_referenceSet_community-browser\")[0]"
   ]
  },
  {
   "cell_type": "code",
   "execution_count": 59,
   "id": "0f711086-7817-4218-b40c-6d997dbd667b",
   "metadata": {
    "tags": []
   },
   "outputs": [],
   "source": [
    "lab_rows = [child for child in labs_list.children]"
   ]
  },
  {
   "cell_type": "code",
   "execution_count": 55,
   "id": "3f3e887d-692c-485b-8b77-11a86f59497b",
   "metadata": {
    "tags": []
   },
   "outputs": [
    {
     "data": {
      "text/plain": [
       "399"
      ]
     },
     "execution_count": 55,
     "metadata": {},
     "output_type": "execute_result"
    }
   ],
   "source": [
    "len(lab_rows)"
   ]
  },
  {
   "cell_type": "code",
   "execution_count": 79,
   "id": "29c9ae77-4a6c-4f3a-affa-008d69459c17",
   "metadata": {
    "tags": []
   },
   "outputs": [],
   "source": [
    "labs = []\n",
    "\n",
    "for lab in lab_rows:\n",
    "    if isinstance(lab, NavigableString):\n",
    "        continue\n",
    "    \n",
    "    class_name = lab.get(\"class\", [])\n",
    "    \n",
    "    if \"hidden\" in class_name:\n",
    "        continue\n",
    "        \n",
    "    labs.append(lab)"
   ]
  },
  {
   "cell_type": "code",
   "execution_count": 80,
   "id": "7256d9e5-822a-4d50-b8d1-445819328799",
   "metadata": {
    "tags": []
   },
   "outputs": [
    {
     "data": {
      "text/plain": [
       "108"
      ]
     },
     "execution_count": 80,
     "metadata": {},
     "output_type": "execute_result"
    }
   ],
   "source": [
    "len(labs)"
   ]
  },
  {
   "cell_type": "code",
   "execution_count": 81,
   "id": "ab6b6ad0-5ed5-4e9e-a0db-1a5b975614e6",
   "metadata": {
    "tags": []
   },
   "outputs": [],
   "source": [
    "lab_links = [\n",
    "    lab.find(\"a\", attrs={\"name\": \"community-browser-link\"})\n",
    "    for lab in labs\n",
    "]"
   ]
  },
  {
   "cell_type": "code",
   "execution_count": 83,
   "id": "0ec028af-ef6b-4803-abca-5f1393e9ef8a",
   "metadata": {
    "tags": []
   },
   "outputs": [
    {
     "data": {
      "text/plain": [
       "[<a href=\"/handle/1721.1/39118\" name=\"community-browser-link\">Abdul Latif Jameel Poverty Action Lab (J-PAL)</a>,\n",
       " <a href=\"/handle/1721.1/34280\" name=\"community-browser-link\">Air Transportation Research</a>,\n",
       " <a href=\"/handle/1721.1/140587\" name=\"community-browser-link\">Art, Culture, and Technology (ACT)</a>,\n",
       " <a href=\"/handle/1721.1/55583\" name=\"community-browser-link\">Auto-ID Laboratory</a>,\n",
       " <a href=\"/handle/1721.1/102532\" name=\"community-browser-link\">Bates Research and Engineering Center</a>,\n",
       " <a href=\"/handle/1721.1/67472\" name=\"community-browser-link\">Center for Advanced Nuclear Energy Systems (CANES)</a>,\n",
       " <a href=\"/handle/1721.1/88529\" name=\"community-browser-link\">Center for Brains, Minds &amp; Machines</a>,\n",
       " <a href=\"/handle/1721.1/122963\" name=\"community-browser-link\">Center for Civic Media</a>,\n",
       " <a href=\"/handle/1721.1/33226\" name=\"community-browser-link\">Center for Computational Science and Engineering (CCSE)</a>,\n",
       " <a href=\"/handle/1721.1/34009\" name=\"community-browser-link\">Center for Energy and Environmental Policy Research</a>,\n",
       " <a href=\"/handle/1721.1/3549\" name=\"community-browser-link\">Center for Global Change Science</a>,\n",
       " <a href=\"/handle/1721.1/55585\" name=\"community-browser-link\">Center for Grid Computing</a>,\n",
       " <a href=\"/handle/1721.1/3764\" name=\"community-browser-link\">Center for Innovation in Product Development (CIPD)</a>,\n",
       " <a href=\"/handle/1721.1/7530\" name=\"community-browser-link\">Center for International Studies (CIS)</a>,\n",
       " <a href=\"/handle/1721.1/16165\" name=\"community-browser-link\">Center for Reflective Community Practice (CRCP)</a>,\n",
       " <a href=\"/handle/1721.1/119473\" name=\"community-browser-link\">Cognitive Artificial Intelligence</a>,\n",
       " <a href=\"/handle/1721.1/39094\" name=\"community-browser-link\">Comparative Media Studies/Writing (CMS/W)</a>,\n",
       " <a href=\"/handle/1721.1/114190\" name=\"community-browser-link\">Comprehensive Initiative on Technology Evaluation (CITE)</a>,\n",
       " <a href=\"/handle/1721.1/54826\" name=\"community-browser-link\">Computational and Systems Biology</a>,\n",
       " <a href=\"/handle/1721.1/5458\" name=\"community-browser-link\">Computer Science and Artificial Intelligence Lab (CSAIL)</a>,\n",
       " <a href=\"/handle/1721.1/141088\" name=\"community-browser-link\">CyberPolitics &amp; Global Dynamics Lab</a>,\n",
       " <a href=\"/handle/1721.1/105852\" name=\"community-browser-link\">Data Related to Publications</a>,\n",
       " <a href=\"/handle/1721.1/7758\" name=\"community-browser-link\">Department of Aeronautics and Astronautics</a>,\n",
       " <a href=\"/handle/1721.1/7749\" name=\"community-browser-link\">Department of Architecture</a>,\n",
       " <a href=\"/handle/1721.1/7752\" name=\"community-browser-link\">Department of Biological Engineering</a>,\n",
       " <a href=\"/handle/1721.1/7761\" name=\"community-browser-link\">Department of Biology</a>,\n",
       " <a href=\"/handle/1721.1/7776\" name=\"community-browser-link\">Department of Brain and Cognitive Sciences</a>,\n",
       " <a href=\"/handle/1721.1/7786\" name=\"community-browser-link\">Department of Chemical Engineering</a>,\n",
       " <a href=\"/handle/1721.1/7792\" name=\"community-browser-link\">Department of Chemistry</a>,\n",
       " <a href=\"/handle/1721.1/7797\" name=\"community-browser-link\">Department of Civil and Environmental Engineering</a>,\n",
       " <a href=\"/handle/1721.1/7803\" name=\"community-browser-link\">Department of Earth, Atmospheric, and Planetary Sciences</a>,\n",
       " <a href=\"/handle/1721.1/7808\" name=\"community-browser-link\">Department of Economics</a>,\n",
       " <a href=\"/handle/1721.1/7813\" name=\"community-browser-link\">Department of Electrical Engineering and Computer Sciences</a>,\n",
       " <a href=\"/handle/1721.1/7819\" name=\"community-browser-link\">Department of Humanities</a>,\n",
       " <a href=\"/handle/1721.1/7824\" name=\"community-browser-link\">Department of Interdisciplinary Science</a>,\n",
       " <a href=\"/handle/1721.1/7829\" name=\"community-browser-link\">Department of Linguistics and Philosophy</a>,\n",
       " <a href=\"/handle/1721.1/7835\" name=\"community-browser-link\">Department of Materials Science and Engineering</a>,\n",
       " <a href=\"/handle/1721.1/7841\" name=\"community-browser-link\">Department of Mathematics</a>,\n",
       " <a href=\"/handle/1721.1/7846\" name=\"community-browser-link\">Department of Mechanical Engineering</a>,\n",
       " <a href=\"/handle/1721.1/7852\" name=\"community-browser-link\">Department of Nuclear Engineering</a>,\n",
       " <a href=\"/handle/1721.1/1774\" name=\"community-browser-link\">Department of Ocean Engineering</a>,\n",
       " <a href=\"/handle/1721.1/7864\" name=\"community-browser-link\">Department of Physics</a>,\n",
       " <a href=\"/handle/1721.1/5427\" name=\"community-browser-link\">Department of Political Science</a>,\n",
       " <a href=\"/handle/1721.1/7873\" name=\"community-browser-link\">Department of Urban Studies and Planning</a>,\n",
       " <a href=\"/handle/1721.1/112118\" name=\"community-browser-link\">D-Lab</a>,\n",
       " <a href=\"/handle/1721.1/67704\" name=\"community-browser-link\">Earth Resources Laboratory</a>,\n",
       " <a href=\"/handle/1721.1/7883\" name=\"community-browser-link\">Engineering Systems Division</a>,\n",
       " <a href=\"/handle/1721.1/104841\" name=\"community-browser-link\">Explorations in Cyber International Relations (ECIR)</a>,\n",
       " <a href=\"/handle/1721.1/7507\" name=\"community-browser-link\">Faculty and Researchers</a>,\n",
       " <a href=\"/handle/1721.1/55718\" name=\"community-browser-link\">GeoNumerics Group</a>,\n",
       " <a href=\"/handle/1721.1/55915\" name=\"community-browser-link\">GeoSpatial Data Center</a>,\n",
       " <a href=\"/handle/1721.1/7889\" name=\"community-browser-link\">Harvard-MIT Program of Health Sciences and Technology</a>,\n",
       " <a href=\"/handle/1721.1/6749\" name=\"community-browser-link\">Hatsopoulos Microfluids Laboratory (HML)</a>,\n",
       " <a href=\"/handle/1721.1/79431\" name=\"community-browser-link\">Haystack Observatory</a>,\n",
       " <a href=\"/handle/1721.1/7932\" name=\"community-browser-link\">History</a>,\n",
       " <a href=\"/handle/1721.1/102514\" name=\"community-browser-link\">Initiative for Health Systems Innovation</a>,\n",
       " <a href=\"/handle/1721.1/143678\" name=\"community-browser-link\">Initiative for Knowledge and Innovation in Manufacturing</a>,\n",
       " <a href=\"/handle/1721.1/102293\" name=\"community-browser-link\">Institute for Data, Systems, and Society</a>,\n",
       " <a href=\"/handle/1721.1/55587\" name=\"community-browser-link\">Intelligent Engineering Systems Laboratory (IESL)</a>,\n",
       " <a href=\"/handle/1721.1/91214\" name=\"community-browser-link\">Intelligent Transportation Systems Laboratory</a>,\n",
       " <a href=\"/handle/1721.1/131249\" name=\"community-browser-link\">Internet Policy Research Initiative</a>,\n",
       " <a href=\"/handle/1721.1/145476\" name=\"community-browser-link\">iTeams</a>,\n",
       " <a href=\"/handle/1721.1/97893\" name=\"community-browser-link\">Julia Language</a>,\n",
       " <a href=\"/handle/1721.1/1775\" name=\"community-browser-link\">Laboratory for Information and Decision Systems (LIDS)</a>,\n",
       " <a href=\"/handle/1721.1/70032\" name=\"community-browser-link\">Laboratory for Nuclear Science</a>,\n",
       " <a href=\"/handle/1721.1/97458\" name=\"community-browser-link\">Lincoln Laboratory</a>,\n",
       " <a href=\"/handle/1721.1/68160\" name=\"community-browser-link\">McGovern Institute for Brain Research at MIT</a>,\n",
       " <a href=\"/handle/1721.1/7896\" name=\"community-browser-link\">Media Arts &amp; Sciences</a>,\n",
       " <a href=\"/handle/1721.1/151135\" name=\"community-browser-link\">MIT Climate &amp; Sustainability Consortium</a>,\n",
       " <a href=\"/handle/1721.1/92237\" name=\"community-browser-link\">MIT Energy Initiative (MITEI)</a>,\n",
       " <a href=\"/handle/1721.1/18192\" name=\"community-browser-link\">MIT Energy Laboratory</a>,\n",
       " <a href=\"/handle/1721.1/101402\" name=\"community-browser-link\">MIT Global Supply Chain and Logistics Excellence (SCALE) Network</a>,\n",
       " <a href=\"/handle/1721.1/150953\" name=\"community-browser-link\">MIT Kavli Institute for Astrophysics and Space Research</a>,\n",
       " <a href=\"/handle/1721.1/7581\" name=\"community-browser-link\">MIT Libraries</a>,\n",
       " <a href=\"/handle/1721.1/100165\" name=\"community-browser-link\">MIT Media Lab</a>,\n",
       " <a href=\"/handle/1721.1/129647\" name=\"community-browser-link\">MIT Mobility Initiative</a>,\n",
       " <a href=\"/handle/1721.1/49432\" name=\"community-browser-link\">MIT Open Access Articles</a>,\n",
       " <a href=\"/handle/1721.1/33970\" name=\"community-browser-link\">MIT OpenCourseWare (MIT OCW) - Archived Content</a>,\n",
       " <a href=\"/handle/1721.1/1776\" name=\"community-browser-link\">MIT Press</a>,\n",
       " <a href=\"/handle/1721.1/96970\" name=\"community-browser-link\">MIT Sea Grant</a>,\n",
       " <a href=\"/handle/1721.1/1773\" name=\"community-browser-link\">MIT Sociotechnical Systems Research Center (SSRC)</a>,\n",
       " <a href=\"/handle/1721.1/91570\" name=\"community-browser-link\">MIT Tata Center for Technology + Design</a>,\n",
       " <a href=\"/handle/1721.1/7294\" name=\"community-browser-link\">MIT Workplace Center</a>,\n",
       " <a href=\"/handle/1721.1/145952\" name=\"community-browser-link\">New Engineering Education Transformation (NEET)</a>,\n",
       " <a href=\"/handle/1721.1/7351\" name=\"community-browser-link\">Nonlinear Systems Laboratory (NSL)</a>,\n",
       " <a href=\"/handle/1721.1/96536\" name=\"community-browser-link\">Office of Digital Learning</a>,\n",
       " <a href=\"/handle/1721.1/5066\" name=\"community-browser-link\">Operations Research Center</a>,\n",
       " <a href=\"/handle/1721.1/92856\" name=\"community-browser-link\">Plasma Science and Fusion Center (PSFC)</a>,\n",
       " <a href=\"/handle/1721.1/53732\" name=\"community-browser-link\">Precision Compliant Systems Laboratory</a>,\n",
       " <a href=\"/handle/1721.1/41528\" name=\"community-browser-link\">Precision Motion Control Laboratory</a>,\n",
       " <a href=\"/handle/1721.1/54829\" name=\"community-browser-link\">Program in Real Estate Development</a>,\n",
       " <a href=\"/handle/1721.1/39101\" name=\"community-browser-link\">Program in Writing and Humanistic Studies</a>,\n",
       " <a href=\"/handle/1721.1/32547\" name=\"community-browser-link\">Program on Emerging Technologies</a>,\n",
       " <a href=\"/handle/1721.1/126521\" name=\"community-browser-link\">Research Computing</a>,\n",
       " <a href=\"/handle/1721.1/4058\" name=\"community-browser-link\">Research Laboratory for Electronics (RLE)</a>,\n",
       " <a href=\"/handle/1721.1/62234\" name=\"community-browser-link\">Robotics Research Datasets</a>,\n",
       " <a href=\"/handle/1721.1/91273\" name=\"community-browser-link\">Scheller Teacher Education Program</a>,\n",
       " <a href=\"/handle/1721.1/7911\" name=\"community-browser-link\">Science, Technology &amp; Society</a>,\n",
       " <a href=\"/handle/1721.1/3649\" name=\"community-browser-link\">Singapore-MIT Alliance (SMA)</a>,\n",
       " <a href=\"/handle/1721.1/1777\" name=\"community-browser-link\">Sloan School of Management</a>,\n",
       " <a href=\"/handle/1721.1/107234\" name=\"community-browser-link\">Supply Chain Management</a>,\n",
       " <a href=\"/handle/1721.1/18185\" name=\"community-browser-link\">Synthetic Biology</a>,\n",
       " <a href=\"/handle/1721.1/7920\" name=\"community-browser-link\">Systems Design &amp; Management</a>,\n",
       " <a href=\"/handle/1721.1/7925\" name=\"community-browser-link\">Technology and Policy Program</a>,\n",
       " <a href=\"/handle/1721.1/55345\" name=\"community-browser-link\">The Big Data Problem</a>,\n",
       " <a href=\"/handle/1721.1/78859\" name=\"community-browser-link\">Trope Tank</a>,\n",
       " <a href=\"/handle/1721.1/5549\" name=\"community-browser-link\">Warren M. Rohsenow Heat and Mass Transfer Laboratory</a>,\n",
       " <a href=\"/handle/1721.1/104839\" name=\"community-browser-link\">WorkLab@MIT</a>]"
      ]
     },
     "execution_count": 83,
     "metadata": {},
     "output_type": "execute_result"
    }
   ],
   "source": [
    "lab_links"
   ]
  },
  {
   "cell_type": "code",
   "execution_count": 101,
   "id": "299bceb9-0697-46a1-b3fa-df0427ae5f87",
   "metadata": {
    "tags": []
   },
   "outputs": [],
   "source": [
    "labs_dict = {}\n",
    "\n",
    "parsed_url = urlparse(labs_url)\n",
    "domain = parsed_url.scheme + \"://\" + parsed_url.netloc\n",
    "\n",
    "for lab in lab_links:\n",
    "    lab_name = lab.text\n",
    "    href = lab.get(\"href\")\n",
    "    link = domain + href + \"/recent-submissions\"\n",
    "    labs_dict[lab_name] = link"
   ]
  },
  {
   "cell_type": "code",
   "execution_count": 102,
   "id": "3248fb77-09e7-477c-a0be-eb8ac94a95a9",
   "metadata": {
    "tags": []
   },
   "outputs": [
    {
     "data": {
      "text/plain": [
       "{'Abdul Latif Jameel Poverty Action Lab (J-PAL)': 'https://dspace.mit.edu/handle/1721.1/39118/recent-submissions',\n",
       " 'Air Transportation Research': 'https://dspace.mit.edu/handle/1721.1/34280/recent-submissions',\n",
       " 'Art, Culture, and Technology (ACT)': 'https://dspace.mit.edu/handle/1721.1/140587/recent-submissions',\n",
       " 'Auto-ID Laboratory': 'https://dspace.mit.edu/handle/1721.1/55583/recent-submissions',\n",
       " 'Bates Research and Engineering Center': 'https://dspace.mit.edu/handle/1721.1/102532/recent-submissions',\n",
       " 'Center for Advanced Nuclear Energy Systems (CANES)': 'https://dspace.mit.edu/handle/1721.1/67472/recent-submissions',\n",
       " 'Center for Brains, Minds & Machines': 'https://dspace.mit.edu/handle/1721.1/88529/recent-submissions',\n",
       " 'Center for Civic Media': 'https://dspace.mit.edu/handle/1721.1/122963/recent-submissions',\n",
       " 'Center for Computational Science and Engineering (CCSE)': 'https://dspace.mit.edu/handle/1721.1/33226/recent-submissions',\n",
       " 'Center for Energy and Environmental Policy Research': 'https://dspace.mit.edu/handle/1721.1/34009/recent-submissions',\n",
       " 'Center for Global Change Science': 'https://dspace.mit.edu/handle/1721.1/3549/recent-submissions',\n",
       " 'Center for Grid Computing': 'https://dspace.mit.edu/handle/1721.1/55585/recent-submissions',\n",
       " 'Center for Innovation in Product Development (CIPD)': 'https://dspace.mit.edu/handle/1721.1/3764/recent-submissions',\n",
       " 'Center for International Studies (CIS)': 'https://dspace.mit.edu/handle/1721.1/7530/recent-submissions',\n",
       " 'Center for Reflective Community Practice (CRCP)': 'https://dspace.mit.edu/handle/1721.1/16165/recent-submissions',\n",
       " 'Cognitive Artificial Intelligence': 'https://dspace.mit.edu/handle/1721.1/119473/recent-submissions',\n",
       " 'Comparative Media Studies/Writing (CMS/W)': 'https://dspace.mit.edu/handle/1721.1/39094/recent-submissions',\n",
       " 'Comprehensive Initiative on Technology Evaluation (CITE)': 'https://dspace.mit.edu/handle/1721.1/114190/recent-submissions',\n",
       " 'Computational and Systems Biology': 'https://dspace.mit.edu/handle/1721.1/54826/recent-submissions',\n",
       " 'Computer Science and Artificial Intelligence Lab (CSAIL)': 'https://dspace.mit.edu/handle/1721.1/5458/recent-submissions',\n",
       " 'CyberPolitics & Global Dynamics Lab': 'https://dspace.mit.edu/handle/1721.1/141088/recent-submissions',\n",
       " 'Data Related to Publications': 'https://dspace.mit.edu/handle/1721.1/105852/recent-submissions',\n",
       " 'Department of Aeronautics and Astronautics': 'https://dspace.mit.edu/handle/1721.1/7758/recent-submissions',\n",
       " 'Department of Architecture': 'https://dspace.mit.edu/handle/1721.1/7749/recent-submissions',\n",
       " 'Department of Biological Engineering': 'https://dspace.mit.edu/handle/1721.1/7752/recent-submissions',\n",
       " 'Department of Biology': 'https://dspace.mit.edu/handle/1721.1/7761/recent-submissions',\n",
       " 'Department of Brain and Cognitive Sciences': 'https://dspace.mit.edu/handle/1721.1/7776/recent-submissions',\n",
       " 'Department of Chemical Engineering': 'https://dspace.mit.edu/handle/1721.1/7786/recent-submissions',\n",
       " 'Department of Chemistry': 'https://dspace.mit.edu/handle/1721.1/7792/recent-submissions',\n",
       " 'Department of Civil and Environmental Engineering': 'https://dspace.mit.edu/handle/1721.1/7797/recent-submissions',\n",
       " 'Department of Earth, Atmospheric, and Planetary Sciences': 'https://dspace.mit.edu/handle/1721.1/7803/recent-submissions',\n",
       " 'Department of Economics': 'https://dspace.mit.edu/handle/1721.1/7808/recent-submissions',\n",
       " 'Department of Electrical Engineering and Computer Sciences': 'https://dspace.mit.edu/handle/1721.1/7813/recent-submissions',\n",
       " 'Department of Humanities': 'https://dspace.mit.edu/handle/1721.1/7819/recent-submissions',\n",
       " 'Department of Interdisciplinary Science': 'https://dspace.mit.edu/handle/1721.1/7824/recent-submissions',\n",
       " 'Department of Linguistics and Philosophy': 'https://dspace.mit.edu/handle/1721.1/7829/recent-submissions',\n",
       " 'Department of Materials Science and Engineering': 'https://dspace.mit.edu/handle/1721.1/7835/recent-submissions',\n",
       " 'Department of Mathematics': 'https://dspace.mit.edu/handle/1721.1/7841/recent-submissions',\n",
       " 'Department of Mechanical Engineering': 'https://dspace.mit.edu/handle/1721.1/7846/recent-submissions',\n",
       " 'Department of Nuclear Engineering': 'https://dspace.mit.edu/handle/1721.1/7852/recent-submissions',\n",
       " 'Department of Ocean Engineering': 'https://dspace.mit.edu/handle/1721.1/1774/recent-submissions',\n",
       " 'Department of Physics': 'https://dspace.mit.edu/handle/1721.1/7864/recent-submissions',\n",
       " 'Department of Political Science': 'https://dspace.mit.edu/handle/1721.1/5427/recent-submissions',\n",
       " 'Department of Urban Studies and Planning': 'https://dspace.mit.edu/handle/1721.1/7873/recent-submissions',\n",
       " 'D-Lab': 'https://dspace.mit.edu/handle/1721.1/112118/recent-submissions',\n",
       " 'Earth Resources Laboratory': 'https://dspace.mit.edu/handle/1721.1/67704/recent-submissions',\n",
       " 'Engineering Systems Division': 'https://dspace.mit.edu/handle/1721.1/7883/recent-submissions',\n",
       " 'Explorations in Cyber International Relations (ECIR)': 'https://dspace.mit.edu/handle/1721.1/104841/recent-submissions',\n",
       " 'Faculty and Researchers': 'https://dspace.mit.edu/handle/1721.1/7507/recent-submissions',\n",
       " 'GeoNumerics Group': 'https://dspace.mit.edu/handle/1721.1/55718/recent-submissions',\n",
       " 'GeoSpatial Data Center': 'https://dspace.mit.edu/handle/1721.1/55915/recent-submissions',\n",
       " 'Harvard-MIT Program of Health Sciences and Technology': 'https://dspace.mit.edu/handle/1721.1/7889/recent-submissions',\n",
       " 'Hatsopoulos Microfluids Laboratory (HML)': 'https://dspace.mit.edu/handle/1721.1/6749/recent-submissions',\n",
       " 'Haystack Observatory': 'https://dspace.mit.edu/handle/1721.1/79431/recent-submissions',\n",
       " 'History': 'https://dspace.mit.edu/handle/1721.1/7932/recent-submissions',\n",
       " 'Initiative for Health Systems Innovation': 'https://dspace.mit.edu/handle/1721.1/102514/recent-submissions',\n",
       " 'Initiative for Knowledge and Innovation in Manufacturing': 'https://dspace.mit.edu/handle/1721.1/143678/recent-submissions',\n",
       " 'Institute for Data, Systems, and Society': 'https://dspace.mit.edu/handle/1721.1/102293/recent-submissions',\n",
       " 'Intelligent Engineering Systems Laboratory (IESL)': 'https://dspace.mit.edu/handle/1721.1/55587/recent-submissions',\n",
       " 'Intelligent Transportation Systems Laboratory': 'https://dspace.mit.edu/handle/1721.1/91214/recent-submissions',\n",
       " 'Internet Policy Research Initiative': 'https://dspace.mit.edu/handle/1721.1/131249/recent-submissions',\n",
       " 'iTeams': 'https://dspace.mit.edu/handle/1721.1/145476/recent-submissions',\n",
       " 'Julia Language': 'https://dspace.mit.edu/handle/1721.1/97893/recent-submissions',\n",
       " 'Laboratory for Information and Decision Systems (LIDS)': 'https://dspace.mit.edu/handle/1721.1/1775/recent-submissions',\n",
       " 'Laboratory for Nuclear Science': 'https://dspace.mit.edu/handle/1721.1/70032/recent-submissions',\n",
       " 'Lincoln Laboratory': 'https://dspace.mit.edu/handle/1721.1/97458/recent-submissions',\n",
       " 'McGovern Institute for Brain Research at MIT': 'https://dspace.mit.edu/handle/1721.1/68160/recent-submissions',\n",
       " 'Media Arts & Sciences': 'https://dspace.mit.edu/handle/1721.1/7896/recent-submissions',\n",
       " 'MIT Climate & Sustainability Consortium': 'https://dspace.mit.edu/handle/1721.1/151135/recent-submissions',\n",
       " 'MIT Energy Initiative (MITEI)': 'https://dspace.mit.edu/handle/1721.1/92237/recent-submissions',\n",
       " 'MIT Energy Laboratory': 'https://dspace.mit.edu/handle/1721.1/18192/recent-submissions',\n",
       " 'MIT Global Supply Chain and Logistics Excellence (SCALE) Network': 'https://dspace.mit.edu/handle/1721.1/101402/recent-submissions',\n",
       " 'MIT Kavli Institute for Astrophysics and Space Research': 'https://dspace.mit.edu/handle/1721.1/150953/recent-submissions',\n",
       " 'MIT Libraries': 'https://dspace.mit.edu/handle/1721.1/7581/recent-submissions',\n",
       " 'MIT Media Lab': 'https://dspace.mit.edu/handle/1721.1/100165/recent-submissions',\n",
       " 'MIT Mobility Initiative': 'https://dspace.mit.edu/handle/1721.1/129647/recent-submissions',\n",
       " 'MIT Open Access Articles': 'https://dspace.mit.edu/handle/1721.1/49432/recent-submissions',\n",
       " 'MIT OpenCourseWare (MIT OCW) - Archived Content': 'https://dspace.mit.edu/handle/1721.1/33970/recent-submissions',\n",
       " 'MIT Press': 'https://dspace.mit.edu/handle/1721.1/1776/recent-submissions',\n",
       " 'MIT Sea Grant': 'https://dspace.mit.edu/handle/1721.1/96970/recent-submissions',\n",
       " 'MIT Sociotechnical Systems Research Center (SSRC)': 'https://dspace.mit.edu/handle/1721.1/1773/recent-submissions',\n",
       " 'MIT Tata Center for Technology + Design': 'https://dspace.mit.edu/handle/1721.1/91570/recent-submissions',\n",
       " 'MIT Workplace Center': 'https://dspace.mit.edu/handle/1721.1/7294/recent-submissions',\n",
       " 'New Engineering Education Transformation (NEET)': 'https://dspace.mit.edu/handle/1721.1/145952/recent-submissions',\n",
       " 'Nonlinear Systems Laboratory (NSL)': 'https://dspace.mit.edu/handle/1721.1/7351/recent-submissions',\n",
       " 'Office of Digital Learning': 'https://dspace.mit.edu/handle/1721.1/96536/recent-submissions',\n",
       " 'Operations Research Center': 'https://dspace.mit.edu/handle/1721.1/5066/recent-submissions',\n",
       " 'Plasma Science and Fusion Center (PSFC)': 'https://dspace.mit.edu/handle/1721.1/92856/recent-submissions',\n",
       " 'Precision Compliant Systems Laboratory': 'https://dspace.mit.edu/handle/1721.1/53732/recent-submissions',\n",
       " 'Precision Motion Control Laboratory': 'https://dspace.mit.edu/handle/1721.1/41528/recent-submissions',\n",
       " 'Program in Real Estate Development': 'https://dspace.mit.edu/handle/1721.1/54829/recent-submissions',\n",
       " 'Program in Writing and Humanistic Studies': 'https://dspace.mit.edu/handle/1721.1/39101/recent-submissions',\n",
       " 'Program on Emerging Technologies': 'https://dspace.mit.edu/handle/1721.1/32547/recent-submissions',\n",
       " 'Research Computing': 'https://dspace.mit.edu/handle/1721.1/126521/recent-submissions',\n",
       " 'Research Laboratory for Electronics (RLE)': 'https://dspace.mit.edu/handle/1721.1/4058/recent-submissions',\n",
       " 'Robotics Research Datasets': 'https://dspace.mit.edu/handle/1721.1/62234/recent-submissions',\n",
       " 'Scheller Teacher Education Program': 'https://dspace.mit.edu/handle/1721.1/91273/recent-submissions',\n",
       " 'Science, Technology & Society': 'https://dspace.mit.edu/handle/1721.1/7911/recent-submissions',\n",
       " 'Singapore-MIT Alliance (SMA)': 'https://dspace.mit.edu/handle/1721.1/3649/recent-submissions',\n",
       " 'Sloan School of Management': 'https://dspace.mit.edu/handle/1721.1/1777/recent-submissions',\n",
       " 'Supply Chain Management': 'https://dspace.mit.edu/handle/1721.1/107234/recent-submissions',\n",
       " 'Synthetic Biology': 'https://dspace.mit.edu/handle/1721.1/18185/recent-submissions',\n",
       " 'Systems Design & Management': 'https://dspace.mit.edu/handle/1721.1/7920/recent-submissions',\n",
       " 'Technology and Policy Program': 'https://dspace.mit.edu/handle/1721.1/7925/recent-submissions',\n",
       " 'The Big Data Problem': 'https://dspace.mit.edu/handle/1721.1/55345/recent-submissions',\n",
       " 'Trope Tank': 'https://dspace.mit.edu/handle/1721.1/78859/recent-submissions',\n",
       " 'Warren M. Rohsenow Heat and Mass Transfer Laboratory': 'https://dspace.mit.edu/handle/1721.1/5549/recent-submissions',\n",
       " 'WorkLab@MIT': 'https://dspace.mit.edu/handle/1721.1/104839/recent-submissions'}"
      ]
     },
     "execution_count": 102,
     "metadata": {},
     "output_type": "execute_result"
    }
   ],
   "source": [
    "labs_dict"
   ]
  },
  {
   "cell_type": "code",
   "execution_count": null,
   "id": "9fde8f5b-64d4-488d-8b3c-cb8f70c6ff7d",
   "metadata": {},
   "outputs": [],
   "source": []
  },
  {
   "cell_type": "code",
   "execution_count": null,
   "id": "3daeb653-2fed-4ea5-a84c-013aa7e5d2fe",
   "metadata": {},
   "outputs": [],
   "source": []
  }
 ],
 "metadata": {
  "kernelspec": {
   "display_name": "Python 3 (ipykernel)",
   "language": "python",
   "name": "python3"
  },
  "language_info": {
   "codemirror_mode": {
    "name": "ipython",
    "version": 3
   },
   "file_extension": ".py",
   "mimetype": "text/x-python",
   "name": "python",
   "nbconvert_exporter": "python",
   "pygments_lexer": "ipython3",
   "version": "3.11.4"
  }
 },
 "nbformat": 4,
 "nbformat_minor": 5
}
