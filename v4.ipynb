{
 "cells": [
  {
   "cell_type": "code",
   "execution_count": 1,
   "id": "a457a54b-8547-49e8-bdb6-d360e6516ce7",
   "metadata": {
    "tags": []
   },
   "outputs": [],
   "source": [
    "%load_ext autoreload\n",
    "%autoreload 2"
   ]
  },
  {
   "cell_type": "markdown",
   "id": "4fbf1d5c-1568-4c56-b368-0de5689ac609",
   "metadata": {},
   "source": [
    "### Objective\n",
    "Create google sheet and insert data"
   ]
  },
  {
   "cell_type": "code",
   "execution_count": 36,
   "id": "6c7cfd39-5b29-475a-bd8a-92f64e0bf9a4",
   "metadata": {
    "tags": []
   },
   "outputs": [],
   "source": [
    "import gspread"
   ]
  },
  {
   "cell_type": "code",
   "execution_count": 37,
   "id": "dbd55211-c684-4755-a4de-48a9e58082ca",
   "metadata": {
    "tags": []
   },
   "outputs": [],
   "source": [
    "sheet_id = \"1SHiqCAIEHIS3yqnNYlKQsv0492IFzTmM0-INrUvBe_Y\""
   ]
  },
  {
   "cell_type": "code",
   "execution_count": 55,
   "id": "a0561623-18e3-42fd-814f-36776cd49ded",
   "metadata": {
    "tags": []
   },
   "outputs": [],
   "source": [
    "gc = gspread.service_account(filename='credentials.json')"
   ]
  },
  {
   "cell_type": "code",
   "execution_count": 56,
   "id": "eb1cc73c-3a56-41f0-8bbb-1ddf90a4a468",
   "metadata": {
    "tags": []
   },
   "outputs": [],
   "source": [
    "sht1 = gc.open_by_key(sheet_id)"
   ]
  },
  {
   "cell_type": "code",
   "execution_count": 57,
   "id": "84385dbe-7730-4ba5-8ad4-5a523d7cff33",
   "metadata": {
    "tags": []
   },
   "outputs": [
    {
     "data": {
      "text/plain": [
       "<Spreadsheet 'MIT DSpace Research Papers' id:1SHiqCAIEHIS3yqnNYlKQsv0492IFzTmM0-INrUvBe_Y>"
      ]
     },
     "execution_count": 57,
     "metadata": {},
     "output_type": "execute_result"
    }
   ],
   "source": [
    "sht1"
   ]
  },
  {
   "cell_type": "code",
   "execution_count": 58,
   "id": "04ce11ac-21ef-4f56-a60c-942af105c3eb",
   "metadata": {
    "tags": []
   },
   "outputs": [
    {
     "data": {
      "text/plain": [
       "'MIT DSpace Research Papers'"
      ]
     },
     "execution_count": 58,
     "metadata": {},
     "output_type": "execute_result"
    }
   ],
   "source": [
    "sht1.title"
   ]
  },
  {
   "cell_type": "code",
   "execution_count": 59,
   "id": "ca0efc43-4ff8-439d-bba7-3fd37b2cd22e",
   "metadata": {
    "tags": []
   },
   "outputs": [
    {
     "data": {
      "text/plain": [
       "[<Worksheet 'Sheet1' id:0>]"
      ]
     },
     "execution_count": 59,
     "metadata": {},
     "output_type": "execute_result"
    }
   ],
   "source": [
    "sht1.worksheets()"
   ]
  },
  {
   "cell_type": "code",
   "execution_count": 53,
   "id": "b2b8d7c5-b995-452a-a79a-47af48a69b99",
   "metadata": {
    "tags": []
   },
   "outputs": [],
   "source": [
    "w = sht1.add_worksheet(title=\"TESTING\", rows=100, cols=5)"
   ]
  },
  {
   "cell_type": "code",
   "execution_count": 54,
   "id": "3554f36d-0c6e-4b0b-b0a1-06a380d1bf49",
   "metadata": {
    "tags": []
   },
   "outputs": [
    {
     "data": {
      "text/plain": [
       "{'spreadsheetId': '1SHiqCAIEHIS3yqnNYlKQsv0492IFzTmM0-INrUvBe_Y',\n",
       " 'updates': {'spreadsheetId': '1SHiqCAIEHIS3yqnNYlKQsv0492IFzTmM0-INrUvBe_Y',\n",
       "  'updatedRange': 'TESTING!A1:B1',\n",
       "  'updatedRows': 1,\n",
       "  'updatedColumns': 2,\n",
       "  'updatedCells': 2}}"
      ]
     },
     "execution_count": 54,
     "metadata": {},
     "output_type": "execute_result"
    }
   ],
   "source": [
    "w.append_row([\"asdf\", \"1234\"])"
   ]
  },
  {
   "cell_type": "code",
   "execution_count": null,
   "id": "81cc93ce-f533-4605-9da7-96a79170de0f",
   "metadata": {},
   "outputs": [],
   "source": []
  }
 ],
 "metadata": {
  "kernelspec": {
   "display_name": "Python 3 (ipykernel)",
   "language": "python",
   "name": "python3"
  },
  "language_info": {
   "codemirror_mode": {
    "name": "ipython",
    "version": 3
   },
   "file_extension": ".py",
   "mimetype": "text/x-python",
   "name": "python",
   "nbconvert_exporter": "python",
   "pygments_lexer": "ipython3",
   "version": "3.11.4"
  }
 },
 "nbformat": 4,
 "nbformat_minor": 5
}
